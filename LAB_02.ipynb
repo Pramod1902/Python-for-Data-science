{
  "nbformat": 4,
  "nbformat_minor": 0,
  "metadata": {
    "colab": {
      "provenance": [],
      "authorship_tag": "ABX9TyNtC+5xdjK83BBJz/8ODeY4",
      "include_colab_link": true
    },
    "kernelspec": {
      "name": "python3",
      "display_name": "Python 3"
    },
    "language_info": {
      "name": "python"
    }
  },
  "cells": [
    {
      "cell_type": "markdown",
      "metadata": {
        "id": "view-in-github",
        "colab_type": "text"
      },
      "source": [
        "<a href=\"https://colab.research.google.com/github/Pramod1902/Python-for-Data-science/blob/main/LAB_02.ipynb\" target=\"_parent\"><img src=\"https://colab.research.google.com/assets/colab-badge.svg\" alt=\"Open In Colab\"/></a>"
      ]
    },
    {
      "cell_type": "code",
      "execution_count": 1,
      "metadata": {
        "id": "5d0xLdg95kHr"
      },
      "outputs": [],
      "source": [
        "import numpy as np\n",
        "import pandas as pd"
      ]
    },
    {
      "cell_type": "code",
      "source": [
        "student_data=np.array([\n",
        "    [56,85,96],\n",
        "    [85,36,54],\n",
        "    [78,96,65],\n",
        "    [78,52,57],\n",
        "    [65,85,87]\n",
        "]);"
      ],
      "metadata": {
        "id": "r2QvTPdy508W"
      },
      "execution_count": 3,
      "outputs": []
    },
    {
      "cell_type": "code",
      "source": [
        "avg=student_data.mean(axis=1)\n",
        "print(avg)"
      ],
      "metadata": {
        "colab": {
          "base_uri": "https://localhost:8080/"
        },
        "id": "c4EWG5026i2h",
        "outputId": "3bcecf53-e76a-4fdb-eed2-a064a624fa1f"
      },
      "execution_count": 4,
      "outputs": [
        {
          "output_type": "stream",
          "name": "stdout",
          "text": [
            "[79.         58.33333333 79.66666667 62.33333333 79.        ]\n"
          ]
        }
      ]
    },
    {
      "cell_type": "code",
      "source": [
        "maximum_score=student_data.max(axis=1)\n",
        "print(maximum_score)"
      ],
      "metadata": {
        "colab": {
          "base_uri": "https://localhost:8080/"
        },
        "id": "9i_mVRjl63ki",
        "outputId": "8a83ab9d-2582-4351-e442-02e4f52bab2e"
      },
      "execution_count": 5,
      "outputs": [
        {
          "output_type": "stream",
          "name": "stdout",
          "text": [
            "[96 85 96 78 87]\n"
          ]
        }
      ]
    },
    {
      "cell_type": "code",
      "source": [
        "minimum_score=student_data.min(axis=1)\n",
        "print(minimum_score)"
      ],
      "metadata": {
        "colab": {
          "base_uri": "https://localhost:8080/"
        },
        "id": "FkSTQgxs7DXp",
        "outputId": "5d225d2a-c73e-46a0-f016-ea05ce42778d"
      },
      "execution_count": 6,
      "outputs": [
        {
          "output_type": "stream",
          "name": "stdout",
          "text": [
            "[56 36 65 52 65]\n"
          ]
        }
      ]
    },
    {
      "cell_type": "code",
      "source": [
        "student_data[0:5]"
      ],
      "metadata": {
        "colab": {
          "base_uri": "https://localhost:8080/"
        },
        "id": "AfV7rRvH7MJE",
        "outputId": "c0a9f62a-f906-4019-c5fa-735c1bdd7504"
      },
      "execution_count": 8,
      "outputs": [
        {
          "output_type": "execute_result",
          "data": {
            "text/plain": [
              "array([[56, 85, 96],\n",
              "       [85, 36, 54],\n",
              "       [78, 96, 65],\n",
              "       [78, 52, 57],\n",
              "       [65, 85, 87]])"
            ]
          },
          "metadata": {},
          "execution_count": 8
        }
      ]
    },
    {
      "cell_type": "code",
      "source": [
        "student_data[student_data>80]"
      ],
      "metadata": {
        "colab": {
          "base_uri": "https://localhost:8080/"
        },
        "id": "CNlgYoqw8MQ4",
        "outputId": "0a26b8a2-1ad0-4d57-a540-828efe06ea85"
      },
      "execution_count": 12,
      "outputs": [
        {
          "output_type": "execute_result",
          "data": {
            "text/plain": [
              "array([85, 96, 85, 96, 85, 87])"
            ]
          },
          "metadata": {},
          "execution_count": 12
        }
      ]
    },
    {
      "cell_type": "code",
      "source": [
        " studentmarksabove_80=student_data[student_data[:, 0] > 80]"
      ],
      "metadata": {
        "id": "OKQ0-M057S7k"
      },
      "execution_count": 10,
      "outputs": []
    },
    {
      "cell_type": "code",
      "source": [
        "studentmarksabove_80"
      ],
      "metadata": {
        "colab": {
          "base_uri": "https://localhost:8080/"
        },
        "id": "f0ouYI5G7oIV",
        "outputId": "bce40c2f-a13e-46db-8066-ffe3386e3620"
      },
      "execution_count": 11,
      "outputs": [
        {
          "output_type": "execute_result",
          "data": {
            "text/plain": [
              "array([[85, 36, 54]])"
            ]
          },
          "metadata": {},
          "execution_count": 11
        }
      ]
    },
    {
      "cell_type": "code",
      "source": [
        "reshaped=student_data.T"
      ],
      "metadata": {
        "id": "JHbgAiuc8H55"
      },
      "execution_count": 16,
      "outputs": []
    },
    {
      "cell_type": "code",
      "source": [
        "reshaped"
      ],
      "metadata": {
        "colab": {
          "base_uri": "https://localhost:8080/"
        },
        "id": "gJl5uhuU8WUB",
        "outputId": "f29e2554-ae40-4381-c163-2de3b46feb89"
      },
      "execution_count": 17,
      "outputs": [
        {
          "output_type": "execute_result",
          "data": {
            "text/plain": [
              "array([[56, 85, 78, 78, 65],\n",
              "       [85, 36, 96, 52, 85],\n",
              "       [96, 54, 65, 57, 87]])"
            ]
          },
          "metadata": {},
          "execution_count": 17
        }
      ]
    },
    {
      "cell_type": "code",
      "source": [
        "print(\"\\nObservations:\")\n",
        "print(\"- Students 2, 4, and 6 are consistent high performers.\")\n",
        "print(\"- Science marks are generally higher than Math & English.\")\n",
        "print(\"- A few students (e.g., Student 8) need improvement across subjects.\")"
      ],
      "metadata": {
        "colab": {
          "base_uri": "https://localhost:8080/"
        },
        "id": "7TuWUuXk8jWS",
        "outputId": "0d7e11b1-0bb7-45ca-b3ed-9dd282ef48f7"
      },
      "execution_count": 18,
      "outputs": [
        {
          "output_type": "stream",
          "name": "stdout",
          "text": [
            "\n",
            "Observations:\n",
            "- Students 2, 4, and 6 are consistent high performers.\n",
            "- Science marks are generally higher than Math & English.\n",
            "- A few students (e.g., Student 8) need improvement across subjects.\n"
          ]
        }
      ]
    },
    {
      "cell_type": "code",
      "source": [],
      "metadata": {
        "id": "JSvqPuol8yxB"
      },
      "execution_count": null,
      "outputs": []
    }
  ]
}